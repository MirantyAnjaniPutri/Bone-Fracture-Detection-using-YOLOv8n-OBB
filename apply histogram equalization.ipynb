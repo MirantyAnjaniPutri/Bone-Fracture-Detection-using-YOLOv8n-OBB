{
 "cells": [
  {
   "cell_type": "code",
   "execution_count": 1,
   "metadata": {},
   "outputs": [],
   "source": [
    "import os\n",
    "import cv2\n",
    "\n",
    "def histogram_equalization(image):\n",
    "    # Convert image to grayscale if it's not already\n",
    "    if len(image.shape) == 3:\n",
    "        image = cv2.cvtColor(image, cv2.COLOR_BGR2GRAY)\n",
    "\n",
    "    # Apply histogram equalization\n",
    "    equalized_image = cv2.equalizeHist(image)\n",
    "\n",
    "    return equalized_image"
   ]
  },
  {
   "cell_type": "code",
   "execution_count": 6,
   "metadata": {},
   "outputs": [],
   "source": [
    "# Path to the datasets folder\n",
    "datasets_path = 'C:/Users/miran/code_skripsi/yolo/datasets'\n",
    "\n",
    "# Path to the histogram equalized datasets folder\n",
    "hist_eq_datasets_path = 'C:/Users/miran/code_skripsi/yolo/hist_datasets'\n",
    "if not os.path.exists(hist_eq_datasets_path):\n",
    "    os.makedirs(hist_eq_datasets_path)\n",
    "\n",
    "# Loop over train, valid, and test folders\n",
    "for folder in ['train/images', 'valid/images', 'test/images']:\n",
    "    # Create corresponding folders in the hist_eq_datasets_path\n",
    "    hist_eq_folder_path = os.path.join(hist_eq_datasets_path, folder)\n",
    "    if not os.path.exists(hist_eq_folder_path):\n",
    "        os.makedirs(hist_eq_folder_path)\n",
    "    \n",
    "    # Loop over images in the current folder\n",
    "    for image_filename in os.listdir(os.path.join(datasets_path, folder)):\n",
    "        # Read the image\n",
    "        image_path = os.path.join(datasets_path, folder, image_filename)\n",
    "        image = cv2.imread(image_path)\n",
    "        \n",
    "        # Equalize the histogram of the image\n",
    "        if image is not None:\n",
    "            equalized_image = histogram_equalization(image)\n",
    "            \n",
    "            # Save the equalized image to the corresponding folder in hist_eq_datasets_path\n",
    "            equalized_image_path = os.path.join(hist_eq_folder_path, image_filename)\n",
    "            cv2.imwrite(equalized_image_path, equalized_image)"
   ]
  },
  {
   "cell_type": "code",
   "execution_count": null,
   "metadata": {},
   "outputs": [],
   "source": []
  }
 ],
 "metadata": {
  "kernelspec": {
   "display_name": "train_yolo",
   "language": "python",
   "name": "python3"
  },
  "language_info": {
   "codemirror_mode": {
    "name": "ipython",
    "version": 3
   },
   "file_extension": ".py",
   "mimetype": "text/x-python",
   "name": "python",
   "nbconvert_exporter": "python",
   "pygments_lexer": "ipython3",
   "version": "3.9.19"
  }
 },
 "nbformat": 4,
 "nbformat_minor": 2
}
